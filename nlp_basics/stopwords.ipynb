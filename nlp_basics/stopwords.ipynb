{
 "cells": [
  {
   "cell_type": "markdown",
   "metadata": {},
   "source": [
    "# Stop Words\n",
    "Words like \"a\" and \"the\" appear so frequently that they don't require tagging as thoroughly as nouns, verbs and modifiers. We call these *stop words*, and they can be filtered from the text to be processed. spaCy holds a built-in list of some 326 English stop words."
   ]
  },
  {
   "cell_type": "code",
   "execution_count": 1,
   "metadata": {},
   "outputs": [],
   "source": [
    "import spacy \n",
    "nlp =spacy.load('en_core_web_lg')"
   ]
  },
  {
   "cell_type": "code",
   "execution_count": 2,
   "metadata": {},
   "outputs": [
    {
     "name": "stdout",
     "output_type": "stream",
     "text": [
      "{'say', 'very', 'behind', 'elsewhere', 'can', 'seems', 'either', 'except', 'wherein', \"'m\", 'keep', 'name', 'with', 'if', 'off', 'every', 'nine', 'however', 'whom', 'which', 'few', 'about', 'or', 're', 'some', 'due', 'more', 'top', 'above', 'they', 'whenever', 'via', 'eleven', 'my', 'anywhere', 'whither', 'first', 'he', 'others', 'become', 'out', \"'re\", 'should', 'per', 'seeming', 'mine', 'though', 'part', 'these', 'during', 'throughout', 'often', 'whence', 'you', 'against', 'still', 'cannot', 'own', 'next', 'up', 'sixty', 'always', 'eight', 'an', 'she', 'not', 'almost', 'anyway', 'move', 'has', 'see', 'been', 'serious', 'onto', 'am', 'did', 'empty', 'latterly', 'make', 'across', '’ve', 'another', 'nevertheless', 'herein', 'front', 'amongst', 'among', 'put', 'sometime', 'becomes', 'thru', 'six', '’m', 'otherwise', 'whole', 'within', 'nowhere', 'somewhere', 'noone', 'since', 'too', 'fifteen', 'will', 'those', '’ll', 'already', 'were', 'no', 'we', 'around', 'well', 'whereas', 'her', 'twelve', 'both', 'the', 'so', 'someone', 'therefore', 'much', 'therein', 'by', 'ours', 'although', 'wherever', 'yet', 'everyone', 'herself', 'sometimes', 'nor', 'former', 'get', 'into', 'between', 'four', 'thence', 'is', 'anything', 'could', 'myself', 'done', 'only', 'several', 'somehow', 'what', 'anyone', 'beforehand', 'everywhere', '‘ve', 'never', 'may', 'himself', 'hereupon', 'any', 'itself', 'formerly', 'please', 'hereafter', 'yourselves', 'full', 'other', 'hundred', 'me', 'be', 'became', 'also', 'toward', \"'ve\", 'each', 'same', 'might', 'are', 'thereafter', 'i', 'unless', 'alone', 'a', 'becoming', 'less', 'rather', 'call', 'ever', 'themselves', 'third', 'while', 'whatever', 'one', 'and', 'hers', 'how', 'their', 'ca', 'again', \"'d\", \"'s\", 'yours', 'show', 'then', 'under', 'whereafter', 'back', 'to', 'fifty', 'but', 'its', 'along', 'quite', 'even', 'whose', 'towards', 'least', 'go', 'us', 'would', 'n‘t', 'nothing', 'over', 'mostly', 'must', 'such', \"n't\", 'made', 'using', 'hereby', 'namely', 'whereby', 'had', 'most', 'many', 'there', 'n’t', 'until', 'now', 'else', 'upon', 'seem', 'on', 'yourself', 'seemed', '’re', 'when', 'thereby', 'take', 'anyhow', 'perhaps', 'below', 'amount', 'does', 'because', '‘ll', 'of', 'ourselves', 'hence', '’d', 'latter', 'regarding', '‘d', 'whoever', 'your', 'two', 'being', 'doing', 'him', 'ten', 'besides', 'after', 'twenty', 'just', \"'ll\", 'last', 'from', '‘re', 'nobody', 'who', 'bottom', 'none', '’s', 'five', 'do', 'moreover', 'at', 'his', 'why', 'beside', 'them', 'have', 'all', 'really', '‘m', 'forty', 'once', 'neither', 'three', 'something', 'down', 'used', 'thus', 'various', 'give', 'thereupon', 'whereupon', 'before', 'through', 'whether', 'it', 'without', 'that', 'together', 'where', 'beyond', 'was', 'our', 'afterwards', 'for', 'here', 'everything', 'than', 'side', '‘s', 'in', 'as', 'further', 'this', 'meanwhile', 'indeed', 'enough'}\n"
     ]
    }
   ],
   "source": [
    "# Print the set of spaCy's default stop words\n",
    "print(nlp.Defaults.stop_words)"
   ]
  },
  {
   "cell_type": "code",
   "execution_count": 4,
   "metadata": {},
   "outputs": [
    {
     "data": {
      "text/plain": [
       "326"
      ]
     },
     "execution_count": 4,
     "metadata": {},
     "output_type": "execute_result"
    }
   ],
   "source": [
    "len(nlp.Defaults.stop_words)"
   ]
  },
  {
   "cell_type": "markdown",
   "metadata": {},
   "source": [
    "## To see if a word is a stop word"
   ]
  },
  {
   "cell_type": "code",
   "execution_count": 6,
   "metadata": {},
   "outputs": [
    {
     "data": {
      "text/plain": [
       "True"
      ]
     },
     "execution_count": 6,
     "metadata": {},
     "output_type": "execute_result"
    }
   ],
   "source": [
    "nlp.vocab['is'].is_stop"
   ]
  },
  {
   "cell_type": "code",
   "execution_count": 8,
   "metadata": {},
   "outputs": [
    {
     "data": {
      "text/plain": [
       "False"
      ]
     },
     "execution_count": 8,
     "metadata": {},
     "output_type": "execute_result"
    }
   ],
   "source": [
    "nlp.vocab['btw'].is_stop"
   ]
  },
  {
   "cell_type": "markdown",
   "metadata": {},
   "source": [
    "## To add a stop word\n",
    "depending on the case studies u might want to add new stop words"
   ]
  },
  {
   "cell_type": "code",
   "execution_count": 9,
   "metadata": {},
   "outputs": [],
   "source": [
    "# Add the word to the set of stop words. Use lowercase!\n",
    "nlp.Defaults.stop_words.add('btw')"
   ]
  },
  {
   "cell_type": "code",
   "execution_count": 14,
   "metadata": {},
   "outputs": [],
   "source": [
    "# Set the stop_word tag on the lexeme\n",
    "nlp.vocab['btw'].is_stop = True"
   ]
  },
  {
   "cell_type": "code",
   "execution_count": 15,
   "metadata": {},
   "outputs": [
    {
     "data": {
      "text/plain": [
       "327"
      ]
     },
     "execution_count": 15,
     "metadata": {},
     "output_type": "execute_result"
    }
   ],
   "source": [
    "len(nlp.Defaults.stop_words)"
   ]
  },
  {
   "cell_type": "code",
   "execution_count": 16,
   "metadata": {},
   "outputs": [
    {
     "data": {
      "text/plain": [
       "True"
      ]
     },
     "execution_count": 16,
     "metadata": {},
     "output_type": "execute_result"
    }
   ],
   "source": [
    "nlp.vocab['btw'].is_stop"
   ]
  },
  {
   "cell_type": "markdown",
   "metadata": {},
   "source": [
    "When adding stop words, always use lowercase. Lexemes are converted to lowercase before being added to **vocab"
   ]
  },
  {
   "cell_type": "markdown",
   "metadata": {},
   "source": [
    "## To remove a stop word\n",
    "depending on the case studies u might want to remvove few stop words"
   ]
  },
  {
   "cell_type": "code",
   "execution_count": 17,
   "metadata": {},
   "outputs": [
    {
     "data": {
      "text/plain": [
       "True"
      ]
     },
     "execution_count": 17,
     "metadata": {},
     "output_type": "execute_result"
    }
   ],
   "source": [
    "nlp.vocab['beyond'].is_stop "
   ]
  },
  {
   "cell_type": "code",
   "execution_count": 18,
   "metadata": {},
   "outputs": [],
   "source": [
    "#  Remove the word from the set of stop words Lower Case!!\n",
    "nlp.Defaults.stop_words.remove('beyond')\n",
    "\n",
    "# Remove the stop_word tag from the lexeme\n",
    "nlp.vocab['beyond'].is_stop = False"
   ]
  },
  {
   "cell_type": "code",
   "execution_count": 19,
   "metadata": {},
   "outputs": [
    {
     "data": {
      "text/plain": [
       "326"
      ]
     },
     "execution_count": 19,
     "metadata": {},
     "output_type": "execute_result"
    }
   ],
   "source": [
    "len(nlp.Defaults.stop_words)"
   ]
  },
  {
   "cell_type": "code",
   "execution_count": 20,
   "metadata": {},
   "outputs": [
    {
     "data": {
      "text/plain": [
       "False"
      ]
     },
     "execution_count": 20,
     "metadata": {},
     "output_type": "execute_result"
    }
   ],
   "source": [
    "nlp.vocab['beyond'].is_stop"
   ]
  },
  {
   "cell_type": "code",
   "execution_count": null,
   "metadata": {},
   "outputs": [],
   "source": []
  }
 ],
 "metadata": {
  "kernelspec": {
   "display_name": "Python 3",
   "language": "python",
   "name": "python3"
  },
  "language_info": {
   "codemirror_mode": {
    "name": "ipython",
    "version": 3
   },
   "file_extension": ".py",
   "mimetype": "text/x-python",
   "name": "python",
   "nbconvert_exporter": "python",
   "pygments_lexer": "ipython3",
   "version": "3.7.7"
  }
 },
 "nbformat": 4,
 "nbformat_minor": 4
}

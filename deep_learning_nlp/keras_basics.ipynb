{
 "cells": [
  {
   "cell_type": "markdown",
   "metadata": {},
   "source": [
    "## Imports"
   ]
  },
  {
   "cell_type": "code",
   "execution_count": 1,
   "metadata": {},
   "outputs": [],
   "source": [
    "import numpy as np\n",
    "import pandas as pd "
   ]
  },
  {
   "cell_type": "code",
   "execution_count": 2,
   "metadata": {},
   "outputs": [],
   "source": [
    "from sklearn.datasets import load_iris"
   ]
  },
  {
   "cell_type": "code",
   "execution_count": 3,
   "metadata": {},
   "outputs": [],
   "source": [
    "iris = load_iris()"
   ]
  },
  {
   "cell_type": "code",
   "execution_count": 4,
   "metadata": {},
   "outputs": [
    {
     "data": {
      "text/plain": [
       "sklearn.utils.Bunch"
      ]
     },
     "execution_count": 4,
     "metadata": {},
     "output_type": "execute_result"
    }
   ],
   "source": [
    "type(iris)"
   ]
  },
  {
   "cell_type": "code",
   "execution_count": 5,
   "metadata": {},
   "outputs": [
    {
     "name": "stdout",
     "output_type": "stream",
     "text": [
      ".. _iris_dataset:\n",
      "\n",
      "Iris plants dataset\n",
      "--------------------\n",
      "\n",
      "**Data Set Characteristics:**\n",
      "\n",
      "    :Number of Instances: 150 (50 in each of three classes)\n",
      "    :Number of Attributes: 4 numeric, predictive attributes and the class\n",
      "    :Attribute Information:\n",
      "        - sepal length in cm\n",
      "        - sepal width in cm\n",
      "        - petal length in cm\n",
      "        - petal width in cm\n",
      "        - class:\n",
      "                - Iris-Setosa\n",
      "                - Iris-Versicolour\n",
      "                - Iris-Virginica\n",
      "                \n",
      "    :Summary Statistics:\n",
      "\n",
      "    ============== ==== ==== ======= ===== ====================\n",
      "                    Min  Max   Mean    SD   Class Correlation\n",
      "    ============== ==== ==== ======= ===== ====================\n",
      "    sepal length:   4.3  7.9   5.84   0.83    0.7826\n",
      "    sepal width:    2.0  4.4   3.05   0.43   -0.4194\n",
      "    petal length:   1.0  6.9   3.76   1.76    0.9490  (high!)\n",
      "    petal width:    0.1  2.5   1.20   0.76    0.9565  (high!)\n",
      "    ============== ==== ==== ======= ===== ====================\n",
      "\n",
      "    :Missing Attribute Values: None\n",
      "    :Class Distribution: 33.3% for each of 3 classes.\n",
      "    :Creator: R.A. Fisher\n",
      "    :Donor: Michael Marshall (MARSHALL%PLU@io.arc.nasa.gov)\n",
      "    :Date: July, 1988\n",
      "\n",
      "The famous Iris database, first used by Sir R.A. Fisher. The dataset is taken\n",
      "from Fisher's paper. Note that it's the same as in R, but not as in the UCI\n",
      "Machine Learning Repository, which has two wrong data points.\n",
      "\n",
      "This is perhaps the best known database to be found in the\n",
      "pattern recognition literature.  Fisher's paper is a classic in the field and\n",
      "is referenced frequently to this day.  (See Duda & Hart, for example.)  The\n",
      "data set contains 3 classes of 50 instances each, where each class refers to a\n",
      "type of iris plant.  One class is linearly separable from the other 2; the\n",
      "latter are NOT linearly separable from each other.\n",
      "\n",
      ".. topic:: References\n",
      "\n",
      "   - Fisher, R.A. \"The use of multiple measurements in taxonomic problems\"\n",
      "     Annual Eugenics, 7, Part II, 179-188 (1936); also in \"Contributions to\n",
      "     Mathematical Statistics\" (John Wiley, NY, 1950).\n",
      "   - Duda, R.O., & Hart, P.E. (1973) Pattern Classification and Scene Analysis.\n",
      "     (Q327.D83) John Wiley & Sons.  ISBN 0-471-22361-1.  See page 218.\n",
      "   - Dasarathy, B.V. (1980) \"Nosing Around the Neighborhood: A New System\n",
      "     Structure and Classification Rule for Recognition in Partially Exposed\n",
      "     Environments\".  IEEE Transactions on Pattern Analysis and Machine\n",
      "     Intelligence, Vol. PAMI-2, No. 1, 67-71.\n",
      "   - Gates, G.W. (1972) \"The Reduced Nearest Neighbor Rule\".  IEEE Transactions\n",
      "     on Information Theory, May 1972, 431-433.\n",
      "   - See also: 1988 MLC Proceedings, 54-64.  Cheeseman et al\"s AUTOCLASS II\n",
      "     conceptual clustering system finds 3 classes in the data.\n",
      "   - Many, many more ...\n"
     ]
    }
   ],
   "source": [
    "print(iris.DESCR)"
   ]
  },
  {
   "cell_type": "code",
   "execution_count": 6,
   "metadata": {},
   "outputs": [],
   "source": [
    "X =iris.data"
   ]
  },
  {
   "cell_type": "code",
   "execution_count": 7,
   "metadata": {},
   "outputs": [],
   "source": [
    "y = iris.target"
   ]
  },
  {
   "cell_type": "markdown",
   "metadata": {},
   "source": [
    "##### label encoding"
   ]
  },
  {
   "cell_type": "code",
   "execution_count": 9,
   "metadata": {},
   "outputs": [],
   "source": [
    "from tensorflow.keras.utils import to_categorical"
   ]
  },
  {
   "cell_type": "code",
   "execution_count": 10,
   "metadata": {},
   "outputs": [],
   "source": [
    "y = to_categorical(y)"
   ]
  },
  {
   "cell_type": "code",
   "execution_count": 13,
   "metadata": {},
   "outputs": [],
   "source": [
    "# y"
   ]
  },
  {
   "cell_type": "markdown",
   "metadata": {},
   "source": [
    "## Split the Data into Training and Test\n"
   ]
  },
  {
   "cell_type": "code",
   "execution_count": 14,
   "metadata": {},
   "outputs": [],
   "source": [
    "from sklearn.model_selection import train_test_split"
   ]
  },
  {
   "cell_type": "code",
   "execution_count": 15,
   "metadata": {},
   "outputs": [],
   "source": [
    "X_train, X_test, y_train, y_test = train_test_split(X,y,test_size=0.30,random_state=42)"
   ]
  },
  {
   "cell_type": "code",
   "execution_count": 17,
   "metadata": {},
   "outputs": [
    {
     "data": {
      "text/plain": [
       "(105, 4)"
      ]
     },
     "execution_count": 17,
     "metadata": {},
     "output_type": "execute_result"
    }
   ],
   "source": [
    "X_train.shape"
   ]
  },
  {
   "cell_type": "code",
   "execution_count": 18,
   "metadata": {},
   "outputs": [
    {
     "data": {
      "text/plain": [
       "(45, 4)"
      ]
     },
     "execution_count": 18,
     "metadata": {},
     "output_type": "execute_result"
    }
   ],
   "source": [
    "X_test.shape"
   ]
  },
  {
   "cell_type": "code",
   "execution_count": 19,
   "metadata": {},
   "outputs": [
    {
     "data": {
      "text/plain": [
       "(105, 3)"
      ]
     },
     "execution_count": 19,
     "metadata": {},
     "output_type": "execute_result"
    }
   ],
   "source": [
    "y_train.shape"
   ]
  },
  {
   "cell_type": "code",
   "execution_count": 20,
   "metadata": {},
   "outputs": [
    {
     "data": {
      "text/plain": [
       "(45, 3)"
      ]
     },
     "execution_count": 20,
     "metadata": {},
     "output_type": "execute_result"
    }
   ],
   "source": [
    "y_test.shape"
   ]
  },
  {
   "cell_type": "markdown",
   "metadata": {},
   "source": [
    "## Standardizing the Data\n",
    "\n",
    "Usually when using Neural Networks, you will get better performance when you standardize the data. Standardization just means normalizing the values to all fit between a certain range, like 0-1, or -1 to 1."
   ]
  },
  {
   "cell_type": "code",
   "execution_count": 21,
   "metadata": {},
   "outputs": [],
   "source": [
    "from sklearn.preprocessing import MinMaxScaler"
   ]
  },
  {
   "cell_type": "code",
   "execution_count": 22,
   "metadata": {},
   "outputs": [],
   "source": [
    "scaler_object = MinMaxScaler()"
   ]
  },
  {
   "cell_type": "code",
   "execution_count": 23,
   "metadata": {},
   "outputs": [],
   "source": [
    "scaled_X_train = scaler_object.fit_transform(X_train)\n",
    "scaled_X_test = scaler_object.transform(X_test)"
   ]
  },
  {
   "cell_type": "markdown",
   "metadata": {},
   "source": [
    "Ok, now we have the data scaled!"
   ]
  },
  {
   "cell_type": "code",
   "execution_count": 24,
   "metadata": {},
   "outputs": [],
   "source": [
    "from tensorflow.keras import Sequential"
   ]
  },
  {
   "cell_type": "code",
   "execution_count": 25,
   "metadata": {},
   "outputs": [],
   "source": [
    "from tensorflow.keras.layers import Dense"
   ]
  },
  {
   "cell_type": "code",
   "execution_count": 37,
   "metadata": {},
   "outputs": [],
   "source": [
    "model = Sequential()\n",
    "model.add(Dense(8,input_dim=4,activation ='relu'))\n",
    "model.add(Dense(8,input_dim=4,activation ='relu'))\n",
    "#output\n",
    "model.add(Dense(3,activation ='softmax'))\n",
    "model.compile(loss='categorical_crossentropy',optimizer='adam',metrics=['accuracy'])"
   ]
  },
  {
   "cell_type": "code",
   "execution_count": 38,
   "metadata": {},
   "outputs": [
    {
     "name": "stdout",
     "output_type": "stream",
     "text": [
      "Model: \"sequential_7\"\n",
      "_________________________________________________________________\n",
      "Layer (type)                 Output Shape              Param #   \n",
      "=================================================================\n",
      "dense_12 (Dense)             (None, 8)                 40        \n",
      "_________________________________________________________________\n",
      "dense_13 (Dense)             (None, 8)                 72        \n",
      "_________________________________________________________________\n",
      "dense_14 (Dense)             (None, 3)                 27        \n",
      "=================================================================\n",
      "Total params: 139\n",
      "Trainable params: 139\n",
      "Non-trainable params: 0\n",
      "_________________________________________________________________\n"
     ]
    }
   ],
   "source": [
    "model.summary()"
   ]
  },
  {
   "cell_type": "code",
   "execution_count": 39,
   "metadata": {},
   "outputs": [
    {
     "name": "stdout",
     "output_type": "stream",
     "text": [
      "Epoch 1/150\n",
      "4/4 - 0s - loss: 1.0264 - accuracy: 0.6476\n",
      "Epoch 2/150\n",
      "4/4 - 0s - loss: 1.0201 - accuracy: 0.6476\n",
      "Epoch 3/150\n",
      "4/4 - 0s - loss: 1.0146 - accuracy: 0.6476\n",
      "Epoch 4/150\n",
      "4/4 - 0s - loss: 1.0092 - accuracy: 0.6476\n",
      "Epoch 5/150\n",
      "4/4 - 0s - loss: 1.0038 - accuracy: 0.6476\n",
      "Epoch 6/150\n",
      "4/4 - 0s - loss: 0.9980 - accuracy: 0.6476\n",
      "Epoch 7/150\n",
      "4/4 - 0s - loss: 0.9927 - accuracy: 0.6476\n",
      "Epoch 8/150\n",
      "4/4 - 0s - loss: 0.9871 - accuracy: 0.6476\n",
      "Epoch 9/150\n",
      "4/4 - 0s - loss: 0.9814 - accuracy: 0.6476\n",
      "Epoch 10/150\n",
      "4/4 - 0s - loss: 0.9756 - accuracy: 0.6476\n",
      "Epoch 11/150\n",
      "4/4 - 0s - loss: 0.9696 - accuracy: 0.6476\n",
      "Epoch 12/150\n",
      "4/4 - 0s - loss: 0.9636 - accuracy: 0.6476\n",
      "Epoch 13/150\n",
      "4/4 - 0s - loss: 0.9572 - accuracy: 0.6476\n",
      "Epoch 14/150\n",
      "4/4 - 0s - loss: 0.9509 - accuracy: 0.6476\n",
      "Epoch 15/150\n",
      "4/4 - 0s - loss: 0.9444 - accuracy: 0.6476\n",
      "Epoch 16/150\n",
      "4/4 - 0s - loss: 0.9376 - accuracy: 0.6476\n",
      "Epoch 17/150\n",
      "4/4 - 0s - loss: 0.9302 - accuracy: 0.6476\n",
      "Epoch 18/150\n",
      "4/4 - 0s - loss: 0.9235 - accuracy: 0.6476\n",
      "Epoch 19/150\n",
      "4/4 - 0s - loss: 0.9156 - accuracy: 0.6476\n",
      "Epoch 20/150\n",
      "4/4 - 0s - loss: 0.9081 - accuracy: 0.6476\n",
      "Epoch 21/150\n",
      "4/4 - 0s - loss: 0.9002 - accuracy: 0.6476\n",
      "Epoch 22/150\n",
      "4/4 - 0s - loss: 0.8925 - accuracy: 0.6476\n",
      "Epoch 23/150\n",
      "4/4 - 0s - loss: 0.8851 - accuracy: 0.6476\n",
      "Epoch 24/150\n",
      "4/4 - 0s - loss: 0.8772 - accuracy: 0.6476\n",
      "Epoch 25/150\n",
      "4/4 - 0s - loss: 0.8693 - accuracy: 0.6476\n",
      "Epoch 26/150\n",
      "4/4 - 0s - loss: 0.8613 - accuracy: 0.6476\n",
      "Epoch 27/150\n",
      "4/4 - 0s - loss: 0.8531 - accuracy: 0.6476\n",
      "Epoch 28/150\n",
      "4/4 - 0s - loss: 0.8450 - accuracy: 0.6476\n",
      "Epoch 29/150\n",
      "4/4 - 0s - loss: 0.8368 - accuracy: 0.6381\n",
      "Epoch 30/150\n",
      "4/4 - 0s - loss: 0.8284 - accuracy: 0.6381\n",
      "Epoch 31/150\n",
      "4/4 - 0s - loss: 0.8201 - accuracy: 0.6286\n",
      "Epoch 32/150\n",
      "4/4 - 0s - loss: 0.8117 - accuracy: 0.6095\n",
      "Epoch 33/150\n",
      "4/4 - 0s - loss: 0.8034 - accuracy: 0.6000\n",
      "Epoch 34/150\n",
      "4/4 - 0s - loss: 0.7950 - accuracy: 0.5905\n",
      "Epoch 35/150\n",
      "4/4 - 0s - loss: 0.7867 - accuracy: 0.5905\n",
      "Epoch 36/150\n",
      "4/4 - 0s - loss: 0.7784 - accuracy: 0.6095\n",
      "Epoch 37/150\n",
      "4/4 - 0s - loss: 0.7703 - accuracy: 0.6190\n",
      "Epoch 38/150\n",
      "4/4 - 0s - loss: 0.7625 - accuracy: 0.6190\n",
      "Epoch 39/150\n",
      "4/4 - 0s - loss: 0.7539 - accuracy: 0.6190\n",
      "Epoch 40/150\n",
      "4/4 - 0s - loss: 0.7460 - accuracy: 0.5905\n",
      "Epoch 41/150\n",
      "4/4 - 0s - loss: 0.7382 - accuracy: 0.6000\n",
      "Epoch 42/150\n",
      "4/4 - 0s - loss: 0.7303 - accuracy: 0.6095\n",
      "Epoch 43/150\n",
      "4/4 - 0s - loss: 0.7223 - accuracy: 0.6381\n",
      "Epoch 44/150\n",
      "4/4 - 0s - loss: 0.7149 - accuracy: 0.6190\n",
      "Epoch 45/150\n",
      "4/4 - 0s - loss: 0.7076 - accuracy: 0.6667\n",
      "Epoch 46/150\n",
      "4/4 - 0s - loss: 0.7000 - accuracy: 0.6762\n",
      "Epoch 47/150\n",
      "4/4 - 0s - loss: 0.6925 - accuracy: 0.6762\n",
      "Epoch 48/150\n",
      "4/4 - 0s - loss: 0.6851 - accuracy: 0.6667\n",
      "Epoch 49/150\n",
      "4/4 - 0s - loss: 0.6783 - accuracy: 0.6667\n",
      "Epoch 50/150\n",
      "4/4 - 0s - loss: 0.6712 - accuracy: 0.6571\n",
      "Epoch 51/150\n",
      "4/4 - 0s - loss: 0.6642 - accuracy: 0.6571\n",
      "Epoch 52/150\n",
      "4/4 - 0s - loss: 0.6575 - accuracy: 0.6667\n",
      "Epoch 53/150\n",
      "4/4 - 0s - loss: 0.6513 - accuracy: 0.6571\n",
      "Epoch 54/150\n",
      "4/4 - 0s - loss: 0.6452 - accuracy: 0.6476\n",
      "Epoch 55/150\n",
      "4/4 - 0s - loss: 0.6391 - accuracy: 0.6476\n",
      "Epoch 56/150\n",
      "4/4 - 0s - loss: 0.6333 - accuracy: 0.6476\n",
      "Epoch 57/150\n",
      "4/4 - 0s - loss: 0.6271 - accuracy: 0.6476\n",
      "Epoch 58/150\n",
      "4/4 - 0s - loss: 0.6213 - accuracy: 0.6476\n",
      "Epoch 59/150\n",
      "4/4 - 0s - loss: 0.6159 - accuracy: 0.6571\n",
      "Epoch 60/150\n",
      "4/4 - 0s - loss: 0.6106 - accuracy: 0.6571\n",
      "Epoch 61/150\n",
      "4/4 - 0s - loss: 0.6052 - accuracy: 0.6571\n",
      "Epoch 62/150\n",
      "4/4 - 0s - loss: 0.6005 - accuracy: 0.6571\n",
      "Epoch 63/150\n",
      "4/4 - 0s - loss: 0.5953 - accuracy: 0.6476\n",
      "Epoch 64/150\n",
      "4/4 - 0s - loss: 0.5905 - accuracy: 0.6476\n",
      "Epoch 65/150\n",
      "4/4 - 0s - loss: 0.5863 - accuracy: 0.6476\n",
      "Epoch 66/150\n",
      "4/4 - 0s - loss: 0.5810 - accuracy: 0.6571\n",
      "Epoch 67/150\n",
      "4/4 - 0s - loss: 0.5771 - accuracy: 0.6571\n",
      "Epoch 68/150\n",
      "4/4 - 0s - loss: 0.5726 - accuracy: 0.6667\n",
      "Epoch 69/150\n",
      "4/4 - 0s - loss: 0.5682 - accuracy: 0.6667\n",
      "Epoch 70/150\n",
      "4/4 - 0s - loss: 0.5643 - accuracy: 0.6667\n",
      "Epoch 71/150\n",
      "4/4 - 0s - loss: 0.5600 - accuracy: 0.6667\n",
      "Epoch 72/150\n",
      "4/4 - 0s - loss: 0.5562 - accuracy: 0.6571\n",
      "Epoch 73/150\n",
      "4/4 - 0s - loss: 0.5525 - accuracy: 0.6571\n",
      "Epoch 74/150\n",
      "4/4 - 0s - loss: 0.5486 - accuracy: 0.6476\n",
      "Epoch 75/150\n",
      "4/4 - 0s - loss: 0.5451 - accuracy: 0.6476\n",
      "Epoch 76/150\n",
      "4/4 - 0s - loss: 0.5417 - accuracy: 0.6476\n",
      "Epoch 77/150\n",
      "4/4 - 0s - loss: 0.5388 - accuracy: 0.6476\n",
      "Epoch 78/150\n",
      "4/4 - 0s - loss: 0.5351 - accuracy: 0.6476\n",
      "Epoch 79/150\n",
      "4/4 - 0s - loss: 0.5313 - accuracy: 0.6476\n",
      "Epoch 80/150\n",
      "4/4 - 0s - loss: 0.5281 - accuracy: 0.6476\n",
      "Epoch 81/150\n",
      "4/4 - 0s - loss: 0.5249 - accuracy: 0.6476\n",
      "Epoch 82/150\n",
      "4/4 - 0s - loss: 0.5217 - accuracy: 0.6476\n",
      "Epoch 83/150\n",
      "4/4 - 0s - loss: 0.5188 - accuracy: 0.6476\n",
      "Epoch 84/150\n",
      "4/4 - 0s - loss: 0.5161 - accuracy: 0.6476\n",
      "Epoch 85/150\n",
      "4/4 - 0s - loss: 0.5134 - accuracy: 0.6476\n",
      "Epoch 86/150\n",
      "4/4 - 0s - loss: 0.5102 - accuracy: 0.6476\n",
      "Epoch 87/150\n",
      "4/4 - 0s - loss: 0.5068 - accuracy: 0.6571\n",
      "Epoch 88/150\n",
      "4/4 - 0s - loss: 0.5033 - accuracy: 0.7143\n",
      "Epoch 89/150\n",
      "4/4 - 0s - loss: 0.5012 - accuracy: 0.7238\n",
      "Epoch 90/150\n",
      "4/4 - 0s - loss: 0.4991 - accuracy: 0.7333\n",
      "Epoch 91/150\n",
      "4/4 - 0s - loss: 0.4957 - accuracy: 0.7714\n",
      "Epoch 92/150\n",
      "4/4 - 0s - loss: 0.4928 - accuracy: 0.7429\n",
      "Epoch 93/150\n",
      "4/4 - 0s - loss: 0.4898 - accuracy: 0.7429\n",
      "Epoch 94/150\n",
      "4/4 - 0s - loss: 0.4869 - accuracy: 0.7333\n",
      "Epoch 95/150\n",
      "4/4 - 0s - loss: 0.4843 - accuracy: 0.7333\n",
      "Epoch 96/150\n",
      "4/4 - 0s - loss: 0.4820 - accuracy: 0.7333\n",
      "Epoch 97/150\n",
      "4/4 - 0s - loss: 0.4798 - accuracy: 0.7333\n",
      "Epoch 98/150\n",
      "4/4 - 0s - loss: 0.4770 - accuracy: 0.7333\n",
      "Epoch 99/150\n",
      "4/4 - 0s - loss: 0.4745 - accuracy: 0.7333\n",
      "Epoch 100/150\n",
      "4/4 - 0s - loss: 0.4718 - accuracy: 0.7333\n",
      "Epoch 101/150\n",
      "4/4 - 0s - loss: 0.4698 - accuracy: 0.7333\n",
      "Epoch 102/150\n",
      "4/4 - 0s - loss: 0.4669 - accuracy: 0.7429\n",
      "Epoch 103/150\n",
      "4/4 - 0s - loss: 0.4640 - accuracy: 0.7905\n",
      "Epoch 104/150\n",
      "4/4 - 0s - loss: 0.4618 - accuracy: 0.8571\n",
      "Epoch 105/150\n",
      "4/4 - 0s - loss: 0.4597 - accuracy: 0.8857\n",
      "Epoch 106/150\n",
      "4/4 - 0s - loss: 0.4580 - accuracy: 0.9333\n",
      "Epoch 107/150\n",
      "4/4 - 0s - loss: 0.4562 - accuracy: 0.9429\n",
      "Epoch 108/150\n",
      "4/4 - 0s - loss: 0.4535 - accuracy: 0.9429\n",
      "Epoch 109/150\n",
      "4/4 - 0s - loss: 0.4503 - accuracy: 0.8952\n",
      "Epoch 110/150\n",
      "4/4 - 0s - loss: 0.4480 - accuracy: 0.8762\n",
      "Epoch 111/150\n",
      "4/4 - 0s - loss: 0.4453 - accuracy: 0.8667\n",
      "Epoch 112/150\n",
      "4/4 - 0s - loss: 0.4430 - accuracy: 0.8667\n",
      "Epoch 113/150\n",
      "4/4 - 0s - loss: 0.4405 - accuracy: 0.8667\n",
      "Epoch 114/150\n",
      "4/4 - 0s - loss: 0.4382 - accuracy: 0.8571\n",
      "Epoch 115/150\n",
      "4/4 - 0s - loss: 0.4361 - accuracy: 0.8381\n",
      "Epoch 116/150\n",
      "4/4 - 0s - loss: 0.4340 - accuracy: 0.8286\n",
      "Epoch 117/150\n",
      "4/4 - 0s - loss: 0.4315 - accuracy: 0.8381\n",
      "Epoch 118/150\n",
      "4/4 - 0s - loss: 0.4289 - accuracy: 0.8381\n",
      "Epoch 119/150\n",
      "4/4 - 0s - loss: 0.4264 - accuracy: 0.8667\n",
      "Epoch 120/150\n",
      "4/4 - 0s - loss: 0.4242 - accuracy: 0.9048\n",
      "Epoch 121/150\n",
      "4/4 - 0s - loss: 0.4215 - accuracy: 0.9333\n",
      "Epoch 122/150\n",
      "4/4 - 0s - loss: 0.4198 - accuracy: 0.9429\n",
      "Epoch 123/150\n",
      "4/4 - 0s - loss: 0.4173 - accuracy: 0.9619\n",
      "Epoch 124/150\n",
      "4/4 - 0s - loss: 0.4151 - accuracy: 0.9333\n",
      "Epoch 125/150\n",
      "4/4 - 0s - loss: 0.4121 - accuracy: 0.9333\n",
      "Epoch 126/150\n",
      "4/4 - 0s - loss: 0.4097 - accuracy: 0.9333\n",
      "Epoch 127/150\n",
      "4/4 - 0s - loss: 0.4073 - accuracy: 0.9333\n",
      "Epoch 128/150\n",
      "4/4 - 0s - loss: 0.4049 - accuracy: 0.9333\n",
      "Epoch 129/150\n",
      "4/4 - 0s - loss: 0.4026 - accuracy: 0.9333\n",
      "Epoch 130/150\n",
      "4/4 - 0s - loss: 0.4005 - accuracy: 0.9333\n",
      "Epoch 131/150\n",
      "4/4 - 0s - loss: 0.3981 - accuracy: 0.9429\n",
      "Epoch 132/150\n",
      "4/4 - 0s - loss: 0.3955 - accuracy: 0.9429\n",
      "Epoch 133/150\n",
      "4/4 - 0s - loss: 0.3931 - accuracy: 0.9429\n",
      "Epoch 134/150\n",
      "4/4 - 0s - loss: 0.3906 - accuracy: 0.9333\n",
      "Epoch 135/150\n",
      "4/4 - 0s - loss: 0.3882 - accuracy: 0.9238\n",
      "Epoch 136/150\n",
      "4/4 - 0s - loss: 0.3864 - accuracy: 0.9048\n",
      "Epoch 137/150\n",
      "4/4 - 0s - loss: 0.3845 - accuracy: 0.9048\n",
      "Epoch 138/150\n",
      "4/4 - 0s - loss: 0.3809 - accuracy: 0.9524\n",
      "Epoch 139/150\n",
      "4/4 - 0s - loss: 0.3787 - accuracy: 0.9524\n",
      "Epoch 140/150\n",
      "4/4 - 0s - loss: 0.3761 - accuracy: 0.9524\n",
      "Epoch 141/150\n",
      "4/4 - 0s - loss: 0.3736 - accuracy: 0.9429\n",
      "Epoch 142/150\n",
      "4/4 - 0s - loss: 0.3711 - accuracy: 0.9429\n",
      "Epoch 143/150\n",
      "4/4 - 0s - loss: 0.3684 - accuracy: 0.9524\n",
      "Epoch 144/150\n",
      "4/4 - 0s - loss: 0.3664 - accuracy: 0.9524\n",
      "Epoch 145/150\n",
      "4/4 - 0s - loss: 0.3631 - accuracy: 0.9524\n",
      "Epoch 146/150\n",
      "4/4 - 0s - loss: 0.3606 - accuracy: 0.9524\n"
     ]
    },
    {
     "name": "stdout",
     "output_type": "stream",
     "text": [
      "Epoch 147/150\n",
      "4/4 - 0s - loss: 0.3578 - accuracy: 0.9524\n",
      "Epoch 148/150\n",
      "4/4 - 0s - loss: 0.3552 - accuracy: 0.9524\n",
      "Epoch 149/150\n",
      "4/4 - 0s - loss: 0.3520 - accuracy: 0.9619\n",
      "Epoch 150/150\n",
      "4/4 - 0s - loss: 0.3496 - accuracy: 0.9619\n"
     ]
    },
    {
     "data": {
      "text/plain": [
       "<tensorflow.python.keras.callbacks.History at 0x1fdf3f56b48>"
      ]
     },
     "execution_count": 39,
     "metadata": {},
     "output_type": "execute_result"
    }
   ],
   "source": [
    "model.fit(scaled_X_train,y_train,epochs=150,verbose=2)"
   ]
  },
  {
   "cell_type": "markdown",
   "metadata": {},
   "source": [
    "## Predicting New Unseen Data"
   ]
  },
  {
   "cell_type": "code",
   "execution_count": 40,
   "metadata": {},
   "outputs": [
    {
     "data": {
      "text/plain": [
       "array([[ 0.52941176,  0.36363636,  0.64285714,  0.45833333],\n",
       "       [ 0.41176471,  0.81818182,  0.10714286,  0.08333333],\n",
       "       [ 1.        ,  0.27272727,  1.03571429,  0.91666667],\n",
       "       [ 0.5       ,  0.40909091,  0.60714286,  0.58333333],\n",
       "       [ 0.73529412,  0.36363636,  0.66071429,  0.54166667],\n",
       "       [ 0.32352941,  0.63636364,  0.07142857,  0.125     ],\n",
       "       [ 0.38235294,  0.40909091,  0.44642857,  0.5       ],\n",
       "       [ 0.76470588,  0.5       ,  0.71428571,  0.91666667],\n",
       "       [ 0.55882353,  0.09090909,  0.60714286,  0.58333333],\n",
       "       [ 0.44117647,  0.31818182,  0.5       ,  0.45833333],\n",
       "       [ 0.64705882,  0.54545455,  0.71428571,  0.79166667],\n",
       "       [ 0.14705882,  0.45454545,  0.05357143,  0.        ],\n",
       "       [ 0.35294118,  0.68181818,  0.03571429,  0.04166667],\n",
       "       [ 0.17647059,  0.5       ,  0.07142857,  0.        ],\n",
       "       [ 0.23529412,  0.81818182,  0.07142857,  0.08333333],\n",
       "       [ 0.58823529,  0.59090909,  0.64285714,  0.625     ],\n",
       "       [ 0.64705882,  0.45454545,  0.83928571,  0.875     ],\n",
       "       [ 0.38235294,  0.22727273,  0.5       ,  0.41666667],\n",
       "       [ 0.41176471,  0.36363636,  0.60714286,  0.5       ],\n",
       "       [ 0.61764706,  0.36363636,  0.80357143,  0.875     ],\n",
       "       [ 0.11764706,  0.54545455,  0.08928571,  0.04166667],\n",
       "       [ 0.52941176,  0.45454545,  0.67857143,  0.70833333],\n",
       "       [ 0.20588235,  0.63636364,  0.08928571,  0.125     ],\n",
       "       [ 0.61764706,  0.36363636,  0.80357143,  0.83333333],\n",
       "       [ 1.05882353,  0.81818182,  0.94642857,  0.79166667],\n",
       "       [ 0.70588235,  0.45454545,  0.73214286,  0.91666667],\n",
       "       [ 0.70588235,  0.22727273,  0.83928571,  0.70833333],\n",
       "       [ 0.73529412,  0.54545455,  0.85714286,  0.91666667],\n",
       "       [ 0.14705882,  0.45454545,  0.05357143,  0.08333333],\n",
       "       [ 0.14705882,  0.5       ,  0.08928571,  0.04166667],\n",
       "       [ 0.08823529,  0.72727273, -0.01785714,  0.04166667],\n",
       "       [ 0.41176471,  1.09090909,  0.07142857,  0.125     ],\n",
       "       [ 0.70588235,  0.5       ,  0.58928571,  0.54166667],\n",
       "       [ 0.14705882,  0.63636364,  0.08928571,  0.04166667],\n",
       "       [ 0.02941176,  0.54545455,  0.03571429,  0.04166667],\n",
       "       [ 0.58823529,  0.22727273,  0.69642857,  0.75      ],\n",
       "       [ 0.61764706,  0.54545455,  0.60714286,  0.58333333],\n",
       "       [ 0.26470588,  0.68181818,  0.07142857,  0.04166667],\n",
       "       [ 0.20588235,  0.72727273,  0.05357143,  0.04166667],\n",
       "       [ 0.26470588,  0.95454545,  0.07142857,  0.        ],\n",
       "       [ 0.44117647,  0.31818182,  0.71428571,  0.75      ],\n",
       "       [ 0.5       ,  0.63636364,  0.60714286,  0.625     ],\n",
       "       [ 0.70588235,  0.5       ,  0.64285714,  0.58333333],\n",
       "       [ 0.32352941,  0.86363636,  0.03571429,  0.125     ],\n",
       "       [ 0.32352941,  0.77272727,  0.07142857,  0.04166667]])"
      ]
     },
     "execution_count": 40,
     "metadata": {},
     "output_type": "execute_result"
    }
   ],
   "source": [
    "scaled_X_test"
   ]
  },
  {
   "cell_type": "code",
   "execution_count": 41,
   "metadata": {},
   "outputs": [],
   "source": [
    "# Spits out probabilities by default.\n",
    "# model.predict(scaled_X_test)"
   ]
  },
  {
   "cell_type": "code",
   "execution_count": 42,
   "metadata": {},
   "outputs": [
    {
     "name": "stdout",
     "output_type": "stream",
     "text": [
      "WARNING:tensorflow:From <ipython-input-42-b1bd062550fb>:1: Sequential.predict_classes (from tensorflow.python.keras.engine.sequential) is deprecated and will be removed after 2021-01-01.\n",
      "Instructions for updating:\n",
      "Please use instead:* `np.argmax(model.predict(x), axis=-1)`,   if your model does multi-class classification   (e.g. if it uses a `softmax` last-layer activation).* `(model.predict(x) > 0.5).astype(\"int32\")`,   if your model does binary classification   (e.g. if it uses a `sigmoid` last-layer activation).\n"
     ]
    },
    {
     "data": {
      "text/plain": [
       "array([1, 0, 2, 1, 1, 0, 1, 2, 2, 1, 2, 0, 0, 0, 0, 1, 2, 1, 1, 2, 0, 2,\n",
       "       0, 2, 2, 2, 2, 2, 0, 0, 0, 0, 1, 0, 0, 2, 1, 0, 0, 0, 2, 1, 1, 0,\n",
       "       0], dtype=int64)"
      ]
     },
     "execution_count": 42,
     "metadata": {},
     "output_type": "execute_result"
    }
   ],
   "source": [
    "model.predict_classes(scaled_X_test)"
   ]
  },
  {
   "cell_type": "code",
   "execution_count": 46,
   "metadata": {},
   "outputs": [
    {
     "data": {
      "text/plain": [
       "array([[0., 1., 0.],\n",
       "       [1., 0., 0.],\n",
       "       [0., 0., 1.],\n",
       "       [0., 1., 0.],\n",
       "       [0., 1., 0.],\n",
       "       [1., 0., 0.],\n",
       "       [0., 1., 0.],\n",
       "       [0., 0., 1.],\n",
       "       [0., 1., 0.],\n",
       "       [0., 1., 0.],\n",
       "       [0., 0., 1.],\n",
       "       [1., 0., 0.],\n",
       "       [1., 0., 0.],\n",
       "       [1., 0., 0.],\n",
       "       [1., 0., 0.],\n",
       "       [0., 1., 0.],\n",
       "       [0., 0., 1.],\n",
       "       [0., 1., 0.],\n",
       "       [0., 1., 0.],\n",
       "       [0., 0., 1.],\n",
       "       [1., 0., 0.],\n",
       "       [0., 0., 1.],\n",
       "       [1., 0., 0.],\n",
       "       [0., 0., 1.],\n",
       "       [0., 0., 1.],\n",
       "       [0., 0., 1.],\n",
       "       [0., 0., 1.],\n",
       "       [0., 0., 1.],\n",
       "       [1., 0., 0.],\n",
       "       [1., 0., 0.],\n",
       "       [1., 0., 0.],\n",
       "       [1., 0., 0.],\n",
       "       [0., 1., 0.],\n",
       "       [1., 0., 0.],\n",
       "       [1., 0., 0.],\n",
       "       [0., 0., 1.],\n",
       "       [0., 1., 0.],\n",
       "       [1., 0., 0.],\n",
       "       [1., 0., 0.],\n",
       "       [1., 0., 0.],\n",
       "       [0., 0., 1.],\n",
       "       [0., 1., 0.],\n",
       "       [0., 1., 0.],\n",
       "       [1., 0., 0.],\n",
       "       [1., 0., 0.]], dtype=float32)"
      ]
     },
     "execution_count": 46,
     "metadata": {},
     "output_type": "execute_result"
    }
   ],
   "source": [
    "y_test"
   ]
  },
  {
   "cell_type": "code",
   "execution_count": null,
   "metadata": {},
   "outputs": [],
   "source": [
    "# convert hot encodes to actual categories "
   ]
  },
  {
   "cell_type": "code",
   "execution_count": 45,
   "metadata": {},
   "outputs": [
    {
     "data": {
      "text/plain": [
       "array([1, 0, 2, 1, 1, 0, 1, 2, 1, 1, 2, 0, 0, 0, 0, 1, 2, 1, 1, 2, 0, 2,\n",
       "       0, 2, 2, 2, 2, 2, 0, 0, 0, 0, 1, 0, 0, 2, 1, 0, 0, 0, 2, 1, 1, 0,\n",
       "       0], dtype=int64)"
      ]
     },
     "execution_count": 45,
     "metadata": {},
     "output_type": "execute_result"
    }
   ],
   "source": [
    "y_test.argmax(axis=1)"
   ]
  },
  {
   "cell_type": "markdown",
   "metadata": {},
   "source": [
    "# Evaluating Model Performance"
   ]
  },
  {
   "cell_type": "code",
   "execution_count": 49,
   "metadata": {},
   "outputs": [],
   "source": [
    "from sklearn import metrics"
   ]
  },
  {
   "cell_type": "code",
   "execution_count": 50,
   "metadata": {},
   "outputs": [
    {
     "data": {
      "text/plain": [
       "['loss', 'accuracy']"
      ]
     },
     "execution_count": 50,
     "metadata": {},
     "output_type": "execute_result"
    }
   ],
   "source": [
    "model.metrics_names"
   ]
  },
  {
   "cell_type": "code",
   "execution_count": 51,
   "metadata": {},
   "outputs": [
    {
     "name": "stdout",
     "output_type": "stream",
     "text": [
      "2/2 [==============================] - 0s 1ms/step - loss: 0.2780 - accuracy: 0.9778\n"
     ]
    },
    {
     "data": {
      "text/plain": [
       "[0.2780008316040039, 0.9777777791023254]"
      ]
     },
     "execution_count": 51,
     "metadata": {},
     "output_type": "execute_result"
    }
   ],
   "source": [
    "model.evaluate(scaled_X_test,y_test)"
   ]
  },
  {
   "cell_type": "code",
   "execution_count": 55,
   "metadata": {},
   "outputs": [],
   "source": [
    "predictions = model.predict_classes(scaled_X_test)"
   ]
  },
  {
   "cell_type": "code",
   "execution_count": 56,
   "metadata": {},
   "outputs": [
    {
     "data": {
      "text/plain": [
       "array([1, 0, 2, 1, 1, 0, 1, 2, 2, 1, 2, 0, 0, 0, 0, 1, 2, 1, 1, 2, 0, 2,\n",
       "       0, 2, 2, 2, 2, 2, 0, 0, 0, 0, 1, 0, 0, 2, 1, 0, 0, 0, 2, 1, 1, 0,\n",
       "       0], dtype=int64)"
      ]
     },
     "execution_count": 56,
     "metadata": {},
     "output_type": "execute_result"
    }
   ],
   "source": [
    "predictions"
   ]
  },
  {
   "cell_type": "code",
   "execution_count": 57,
   "metadata": {},
   "outputs": [
    {
     "data": {
      "text/plain": [
       "array([1, 0, 2, 1, 1, 0, 1, 2, 1, 1, 2, 0, 0, 0, 0, 1, 2, 1, 1, 2, 0, 2,\n",
       "       0, 2, 2, 2, 2, 2, 0, 0, 0, 0, 1, 0, 0, 2, 1, 0, 0, 0, 2, 1, 1, 0,\n",
       "       0], dtype=int64)"
      ]
     },
     "execution_count": 57,
     "metadata": {},
     "output_type": "execute_result"
    }
   ],
   "source": [
    "y_test.argmax(axis =1)"
   ]
  },
  {
   "cell_type": "code",
   "execution_count": 59,
   "metadata": {},
   "outputs": [
    {
     "data": {
      "text/plain": [
       "array([[19,  0,  0],\n",
       "       [ 0, 12,  1],\n",
       "       [ 0,  0, 13]], dtype=int64)"
      ]
     },
     "execution_count": 59,
     "metadata": {},
     "output_type": "execute_result"
    }
   ],
   "source": [
    "metrics.confusion_matrix(y_test.argmax(axis=1),predictions)"
   ]
  },
  {
   "cell_type": "code",
   "execution_count": 62,
   "metadata": {},
   "outputs": [
    {
     "name": "stdout",
     "output_type": "stream",
     "text": [
      "              precision    recall  f1-score   support\n",
      "\n",
      "           0       1.00      1.00      1.00        19\n",
      "           1       1.00      0.92      0.96        13\n",
      "           2       0.93      1.00      0.96        13\n",
      "\n",
      "    accuracy                           0.98        45\n",
      "   macro avg       0.98      0.97      0.97        45\n",
      "weighted avg       0.98      0.98      0.98        45\n",
      "\n"
     ]
    }
   ],
   "source": [
    "print(metrics.classification_report(y_test.argmax(axis=1),predictions))"
   ]
  },
  {
   "cell_type": "markdown",
   "metadata": {},
   "source": [
    "## Saving and Loading Models"
   ]
  },
  {
   "cell_type": "code",
   "execution_count": 64,
   "metadata": {},
   "outputs": [],
   "source": [
    "from tensorflow.keras.models import load_model"
   ]
  },
  {
   "cell_type": "code",
   "execution_count": 65,
   "metadata": {},
   "outputs": [],
   "source": [
    "model.save('iris_classification_model.h5')"
   ]
  },
  {
   "cell_type": "code",
   "execution_count": 66,
   "metadata": {},
   "outputs": [],
   "source": [
    "newmodel = load_model('iris_classification_model.h5')"
   ]
  },
  {
   "cell_type": "code",
   "execution_count": 67,
   "metadata": {},
   "outputs": [
    {
     "data": {
      "text/plain": [
       "array([2, 1, 2, 2, 2, 1, 2, 2, 2, 2, 2, 1, 0, 1, 0, 2, 2, 2, 2, 2, 1, 2,\n",
       "       1, 2, 2, 2, 2, 2, 1, 1, 0, 0, 2, 1, 0, 2, 2, 1, 0, 0, 2, 2, 2, 0,\n",
       "       0], dtype=int64)"
      ]
     },
     "execution_count": 67,
     "metadata": {},
     "output_type": "execute_result"
    }
   ],
   "source": [
    "newmodel.predict_classes(X_test)"
   ]
  }
 ],
 "metadata": {
  "kernelspec": {
   "display_name": "Python 3",
   "language": "python",
   "name": "python3"
  },
  "language_info": {
   "codemirror_mode": {
    "name": "ipython",
    "version": 3
   },
   "file_extension": ".py",
   "mimetype": "text/x-python",
   "name": "python",
   "nbconvert_exporter": "python",
   "pygments_lexer": "ipython3",
   "version": "3.7.7"
  }
 },
 "nbformat": 4,
 "nbformat_minor": 4
}
